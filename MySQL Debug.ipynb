{
 "cells": [
  {
   "cell_type": "code",
   "execution_count": null,
   "metadata": {},
   "outputs": [],
   "source": [
    "import pymysql\n",
    "\n",
    "dbServerName = \"127.0.0.1\"\n",
    "dbUser = \"root\"\n",
    "dbPassword = \"mypassword\"\n",
    "dbName = \"db1\"\n",
    "charSet = \"utf8mb4\"\n",
    "cusrorType = pymysql.cursors.DictCursor\n",
    "\n",
    "connectionObject = pymysql.connect(host=dbServerName, user=dbUser, db=dbName, password=dbPassword, charset=charSet,cursorclass=cusrorType)\n",
    "\n",
    "try:\n",
    "    # Create a cursor object\n",
    "    cursorObject = connectionObject.cursor()                                     \n",
    "    \n",
    "    periodCount = 1\n",
    "    for i in range(11):\n",
    "        for j in locations:\n",
    "            per = str(periodCount)\n",
    "            loc = str(loc_dict_list[i][j])\n",
    "            crowd = str(crowd_dict_list[i][j])\n",
    "            #sqlQuery = \"INSERT INTO studentLife (period, locations, count, crowding) VALUES ('$per', '$j', '$loc', '$crowd')\";\n",
    "            \n",
    "            #sqlQuery = \"INSERT INTO studentLife (period, locations, count, crowding) VALUES (\\'\" + per + \"\\', \\'\" + j + \", \" + loc + \", \" + crowd + \")\";\n",
    "            \n",
    "            sqlQuery = \"INSERT INTO studentLife (period, locations, count, crowding) VALUES (%s, %s, %s, %s)\";\n",
    "            \n",
    "            values = {per, j, loc, crowd}\n",
    "            \n",
    "            print sqlQuery\n",
    "            cursorObject.execute(sqlQuery, values)\n",
    "            periodCount += 1\n",
    "       \n",
    "    sqlQuery = \"SELECT * from studentLife\"\n",
    "    cursorObject.execute(sqlQuery)\n",
    "    \n",
    "    rows = cursorObject.fetchall()\n",
    "\n",
    "    for row in rows:\n",
    "        print(row)\n",
    "\n",
    "except Exception as e:\n",
    "    print(\"Exeception occured:{}\".format(e))\n",
    "    \n",
    "finally:\n",
    "    connectionObject.close()"
   ]
  }
 ],
 "metadata": {
  "kernelspec": {
   "display_name": "Python 2",
   "language": "python",
   "name": "python2"
  },
  "language_info": {
   "codemirror_mode": {
    "name": "ipython",
    "version": 2
   },
   "file_extension": ".py",
   "mimetype": "text/x-python",
   "name": "python",
   "nbconvert_exporter": "python",
   "pygments_lexer": "ipython2",
   "version": "2.7.15"
  }
 },
 "nbformat": 4,
 "nbformat_minor": 2
}
